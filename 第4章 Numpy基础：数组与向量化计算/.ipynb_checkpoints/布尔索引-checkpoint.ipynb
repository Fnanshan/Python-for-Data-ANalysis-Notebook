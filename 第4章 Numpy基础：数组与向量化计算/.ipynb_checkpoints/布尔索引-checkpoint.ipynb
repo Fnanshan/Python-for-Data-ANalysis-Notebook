{
 "cells": [
  {
   "cell_type": "code",
   "execution_count": 2,
   "metadata": {},
   "outputs": [],
   "source": [
    "# 这里，布尔索引的作用是，根据'Bob',找到他的每条信息。根据结果知道，'Bob'的信息有两条。\n",
    "import numpy as np\n",
    "names = np.array(['Bob', 'Joe', 'Will', 'Bob', 'Will', 'Joe', 'Joe'])"
   ]
  },
  {
   "cell_type": "code",
   "execution_count": 6,
   "metadata": {},
   "outputs": [
    {
     "data": {
      "text/plain": [
       "array([[ 1.40540371, -2.71551847,  0.38503483,  0.701648  ],\n",
       "       [ 0.78450099, -0.74606018, -0.93093824,  0.36927797],\n",
       "       [ 0.05314527,  0.30154865, -0.37456499,  1.63503227],\n",
       "       [-0.14329374,  0.14385545,  0.26838173, -1.14855697],\n",
       "       [ 1.22534951,  0.10691372, -0.71505506, -0.09633539],\n",
       "       [-0.05027374,  0.40602133,  0.82676533, -0.30099985],\n",
       "       [ 1.27916904, -1.33977678, -0.21369588, -0.52228655]])"
      ]
     },
     "execution_count": 6,
     "metadata": {},
     "output_type": "execute_result"
    }
   ],
   "source": [
    "data = np.random.randn(7, 4)\n",
    "data"
   ]
  },
  {
   "cell_type": "code",
   "execution_count": 7,
   "metadata": {},
   "outputs": [
    {
     "data": {
      "text/plain": [
       "array([ True, False, False,  True, False, False, False])"
      ]
     },
     "execution_count": 7,
     "metadata": {},
     "output_type": "execute_result"
    }
   ],
   "source": [
    "names == 'Bob'"
   ]
  },
  {
   "cell_type": "code",
   "execution_count": 8,
   "metadata": {},
   "outputs": [
    {
     "data": {
      "text/plain": [
       "array([[ 1.40540371, -2.71551847,  0.38503483,  0.701648  ],\n",
       "       [-0.14329374,  0.14385545,  0.26838173, -1.14855697]])"
      ]
     },
     "execution_count": 8,
     "metadata": {},
     "output_type": "execute_result"
    }
   ],
   "source": [
    "data[names == 'Bob']"
   ]
  },
  {
   "cell_type": "code",
   "execution_count": 9,
   "metadata": {},
   "outputs": [],
   "source": [
    "# 用切片或整数值对布尔值数组进行混合和匹配。"
   ]
  },
  {
   "cell_type": "code",
   "execution_count": 10,
   "metadata": {},
   "outputs": [
    {
     "data": {
      "text/plain": [
       "array([[ 0.38503483,  0.701648  ],\n",
       "       [ 0.26838173, -1.14855697]])"
      ]
     },
     "execution_count": 10,
     "metadata": {},
     "output_type": "execute_result"
    }
   ],
   "source": [
    "data[names == 'Bob', 2:]"
   ]
  },
  {
   "cell_type": "code",
   "execution_count": 11,
   "metadata": {},
   "outputs": [],
   "source": [
    "# （取反）选择除了‘Bob’以外的其他数据"
   ]
  },
  {
   "cell_type": "code",
   "execution_count": 12,
   "metadata": {},
   "outputs": [
    {
     "data": {
      "text/plain": [
       "array([False,  True,  True, False,  True,  True,  True])"
      ]
     },
     "execution_count": 12,
     "metadata": {},
     "output_type": "execute_result"
    }
   ],
   "source": [
    "names != 'Bob'"
   ]
  },
  {
   "cell_type": "code",
   "execution_count": 15,
   "metadata": {},
   "outputs": [
    {
     "data": {
      "text/plain": [
       "array([[ 0.78450099, -0.74606018, -0.93093824,  0.36927797],\n",
       "       [ 0.05314527,  0.30154865, -0.37456499,  1.63503227],\n",
       "       [ 1.22534951,  0.10691372, -0.71505506, -0.09633539],\n",
       "       [-0.05027374,  0.40602133,  0.82676533, -0.30099985],\n",
       "       [ 1.27916904, -1.33977678, -0.21369588, -0.52228655]])"
      ]
     },
     "execution_count": 15,
     "metadata": {},
     "output_type": "execute_result"
    }
   ],
   "source": [
    "data[~(names == 'Bob')]"
   ]
  },
  {
   "cell_type": "code",
   "execution_count": null,
   "metadata": {},
   "outputs": [],
   "source": []
  }
 ],
 "metadata": {
  "kernelspec": {
   "display_name": "Python 3",
   "language": "python",
   "name": "python3"
  },
  "language_info": {
   "codemirror_mode": {
    "name": "ipython",
    "version": 3
   },
   "file_extension": ".py",
   "mimetype": "text/x-python",
   "name": "python",
   "nbconvert_exporter": "python",
   "pygments_lexer": "ipython3",
   "version": "3.7.0"
  }
 },
 "nbformat": 4,
 "nbformat_minor": 2
}
